{
 "cells": [
  {
   "cell_type": "markdown",
   "metadata": {
    "tags": []
   },
   "source": [
    "#### Oppsett - kjør dette først!"
   ]
  },
  {
   "cell_type": "code",
   "execution_count": 1440,
   "metadata": {},
   "outputs": [],
   "source": [
    "from asrtoolkit import cer, wer\n",
    "import requests\n",
    "import mimetypes\n",
    "import pytesseract\n",
    "import cv2\n",
    "import matplotlib.pyplot as plt\n",
    "from scipy.ndimage import rotate\n",
    "from symspellpy import SymSpell, Verbosity\n",
    "import spacy\n",
    "from spacy.language import Language, Doc\n",
    "from spacy.tokens import Token\n",
    "from spacy.symbols import ORTH\n",
    "import os\n",
    "import numpy as np\n",
    "import regex as re"
   ]
  },
  {
   "cell_type": "code",
   "execution_count": 541,
   "metadata": {},
   "outputs": [],
   "source": [
    "plt.rcParams[\"figure.figsize\"] = [9.0, 15.0]"
   ]
  },
  {
   "cell_type": "code",
   "execution_count": 1864,
   "metadata": {},
   "outputs": [],
   "source": [
    "img_path = './db60044923000260.jpg'"
   ]
  },
  {
   "cell_type": "code",
   "execution_count": 1226,
   "metadata": {},
   "outputs": [],
   "source": [
    "fasit = open('./db60044923000260_fasit.txt').read()"
   ]
  },
  {
   "cell_type": "code",
   "execution_count": 786,
   "metadata": {},
   "outputs": [],
   "source": [
    "auth_token = '266575f8-aad9-457e-8cbf-f1d7223c2a51'"
   ]
  },
  {
   "cell_type": "code",
   "execution_count": 787,
   "metadata": {
    "tags": []
   },
   "outputs": [],
   "source": [
    "from pathlib import Path\n",
    "def download_urnid_from_da(urnid: str, destination_directory: str, auth_token: str):\n",
    "    \"\"\"\n",
    "    Download the requested urnid to a specified directory\n",
    "    Args:\n",
    "        urnid (str): 16-character urnid\n",
    "        destination_directory (str): path to directory to download image to\n",
    "        auth_token (str): DA token to use for downloading\n",
    "    \"\"\"\n",
    "    API_IMAGE_DOWNLOAD = 'https://media.digitalarkivet.no/api/v1/image/{}'\n",
    "    response = requests.get(f'{API_IMAGE_DOWNLOAD.format(urnid)}.jpg', headers={'auth-token': auth_token})\n",
    "    extension = mimetypes.guess_extension(response.headers['Content-Type'].split(';')[0])\n",
    "    destination_directory = Path(destination_directory)\n",
    "    destination_directory.mkdir(exist_ok=True)\n",
    "    output_file_path = (destination_directory / urnid).with_suffix(extension)\n",
    "    with open(output_file_path, 'wb') as f:\n",
    "        f.write(response.content)\n",
    "    return str(output_file_path)"
   ]
  },
  {
   "cell_type": "markdown",
   "metadata": {
    "tags": []
   },
   "source": [
    "## Del 1:\n",
    "Definer funksjonen `ocr_file`:"
   ]
  },
  {
   "cell_type": "code",
   "execution_count": 1968,
   "metadata": {
    "tags": []
   },
   "outputs": [],
   "source": [
    "def find_contours(img_path: str) -> np.ndarray:\n",
    "    \"\"\"\n",
    "    Finner den største rektangulære konturen i bildet og returnerer et beskåret bilde (hvis mulig). \n",
    "    Jeg endte opp med å ikke bruke denne funksjonen da jeg lagde korpuset, fordi den ikke alltid klarte\n",
    "    å beskjære bildene helt riktig.\n",
    "    \"\"\"\n",
    "    \n",
    "    im = cv2.imread(img_path)\n",
    "    imgray = cv2.cvtColor(im, cv2.COLOR_BGR2GRAY)\n",
    "    thresh = cv2.threshold(imgray, 200, 255, 0)[1]\n",
    "    \n",
    "    kernel = cv2.getStructuringElement(cv2.MORPH_RECT,(4,10))\n",
    "    opened = cv2.morphologyEx(255 - thresh, cv2.MORPH_DILATE, kernel, iterations=9)\n",
    "    \n",
    "    kernel = cv2.getStructuringElement(cv2.MORPH_RECT,(3,2))\n",
    "    erode = cv2.morphologyEx(opened, cv2.MORPH_OPEN, kernel, iterations=15)\n",
    "    \n",
    "    thresh_copy = thresh.copy()\n",
    "    contours, hierarchy = cv2.findContours(255 - erode, cv2.RETR_TREE, cv2.CHAIN_APPROX_SIMPLE)\n",
    "    cv2.drawContours(thresh_copy, contours, -1, (0, 255, 0), 2, cv2.LINE_AA)\n",
    "\n",
    "    contour_areas = []\n",
    "    \n",
    "    for cnt in contours:\n",
    "        x, y, w, h = cv2.boundingRect(cnt)\n",
    "        area = cv2.contourArea(cnt)\n",
    "        contour_areas.append((area, x, y, w, h))\n",
    "\n",
    "    sorted_contours = sorted(contour_areas, key=lambda x: x[0], reverse = True)\n",
    "    \n",
    "    try:\n",
    "        largest_cnt_area, x, y, w, h = sorted_contours[0]\n",
    "        assert x < 150 and y < 150 and w > 1000\n",
    "    except: \n",
    "        return thresh\n",
    "    \n",
    "    # Cropping the text block for giving input to OCR\n",
    "    cropped = thresh[y: y + h, x: x + w]\n",
    "    #crop_display = cv2.cvtColor(cropped, cv2.COLOR_BGR2RGB)\n",
    "    #plt.imshow(crop_display)\n",
    "    #plt.show()\n",
    "    \n",
    "    return cropped"
   ]
  },
  {
   "cell_type": "code",
   "execution_count": 1970,
   "metadata": {},
   "outputs": [],
   "source": [
    "def ocr_file(img_path: str) -> str:\n",
    "    \n",
    "    # Konvertere til svart-hvitt\n",
    "    image = cv2.imread(img_path)\n",
    "    grayscale = cv2.cvtColor(image, cv2.COLOR_BGR2GRAY)\n",
    "    \n",
    "    thresholded = cv2.threshold(grayscale, 210, 255, cv2.THRESH_TOZERO)[1]\n",
    "    \n",
    "    data = pytesseract.image_to_string(thresholded, lang='nor', config='--psm 6')\n",
    "    \n",
    "    return data"
   ]
  },
  {
   "cell_type": "markdown",
   "metadata": {},
   "source": [
    "Kjør disse cellene for å evaluere:"
   ]
  },
  {
   "cell_type": "code",
   "execution_count": 1971,
   "metadata": {},
   "outputs": [],
   "source": [
    "contours = find_contours(img_path)"
   ]
  },
  {
   "cell_type": "code",
   "execution_count": 1972,
   "metadata": {},
   "outputs": [],
   "source": [
    "ocr_result = ocr_file(img_path)"
   ]
  },
  {
   "cell_type": "code",
   "execution_count": 1973,
   "metadata": {},
   "outputs": [
    {
     "name": "stdout",
     "output_type": "stream",
     "text": [
      ", ;\n",
      "te | 3\n",
      "rebostats tarritorium, alik at å=t internasjonal= organ\n",
      "ved lov gis myndighet endog innen det norske rikes grenser.\n",
      "Jeg antar at man ved tolkinger av Grl.?s $ I ikke\n",
      "kormer utenom en viss inflytelse av de tradisjonelle fokke-\n",
      "rettslige suverenitstsforestillinger og de historisk-\n",
      "tradisjonelle inndelinrer av statenes irnbyrdes forhold å\n",
      "statsrettslige og folkerettsligeforbindelser alt etter\n",
      "hviiket formelt gyldighetsgrunnlag da= har. Det er nemlig\n",
      "åpenbart at grunnloven må forutsette en vidtgående adgang\n",
      "for Norge til å påta sag forkerettslige forpliktelsar som\n",
      "nödvendigvis må begrense landets handlefrihet. Og rår det\n",
      "gjelder forpliktelser og forbindelser som tradisjonelt har\n",
      "vært ansett som folkerettslige ( og fölgelig fornilde -\n",
      "begrepsmessig - suveranitetsbavarende i forkerettslig\n",
      "forstand) er dt naturlig å anta at grunnloven tillater\n",
      "större innskrenkkingøtr handlafrihetan enr når det gjelder\n",
      "forplirtelser og rorbinsiese, tradisjonelt har vært\n",
      "Adra sender\n",
      "reknet for å værs EN gtet.\n",
      "Disse tradisjonelle sondringer er imidlertid som nevnt\n",
      "uklare of usikrs i sin anvendelsé og svarer ik.= alltid\n",
      "til reelle forskjeller med omsyn til forpliktelsenes innhold,\n",
      "faøskgate)\n",
      "se nærmere Ross l.c. S. 41-57 og 5. 125 -143. De bör derfor\n",
      "ikke alene legses til grunn for noen absolutt og ubetinget\n",
      "forskjell å bedömmelsen når det gjelder forholdet til\n",
      "Grl.?s $ 1.. Det i siste instans av« jörends ånder derne\n",
      "bedömmelse må være hvilken grad av reell frihet og virke-\n",
      "lig sjölstende rettsoppfatningan til enhvar tid krever\n",
      "i forhold til statenøs fellesskip i verdenssamfunnet. Den\n",
      "absolutte suverenitet (eller sjölstende) er jo ike mulig undej\n",
      "noe folkerettslig regime. Grl,?s $ 1 må vel 1 förste rekke\n",
      "\n"
     ]
    }
   ],
   "source": [
    "print(ocr_result)"
   ]
  },
  {
   "cell_type": "code",
   "execution_count": 1974,
   "metadata": {},
   "outputs": [
    {
     "name": "stdout",
     "output_type": "stream",
     "text": [
      "character error rate: 6.950028719126939\n",
      "word error rate: 24.137931034482758\n"
     ]
    }
   ],
   "source": [
    "print(f'character error rate: {cer(fasit, ocr_result)}\\nword error rate: {wer(fasit, ocr_result)}')"
   ]
  },
  {
   "cell_type": "markdown",
   "metadata": {},
   "source": [
    "### Post-prosessering av resultatet\n",
    "Vi får en relativt grei character error rate, men ser at noen tegn ofte har blitt feiloppfattet av OCR-en. Jeg tester en enkel stavekontroll for å få ordnet opp i de mest åpenbare feilene: "
   ]
  },
  {
   "cell_type": "code",
   "execution_count": 1889,
   "metadata": {},
   "outputs": [],
   "source": [
    "def load_spell_checker(max_edit_distance: int = 2) -> SymSpell:\n",
    "    sym_spell = SymSpell(max_dictionary_edit_distance=max_edit_distance, prefix_length=5)\n",
    "    dict_path = \"dictionaries/nb/nasjonalbib_frekvenser_minfreq3_alnum.txt\"\n",
    "    sym_spell.load_dictionary(dict_path, 0, 1, encoding='utf-8')\n",
    "    \n",
    "    return sym_spell"
   ]
  },
  {
   "cell_type": "code",
   "execution_count": 1890,
   "metadata": {},
   "outputs": [],
   "source": [
    "def correct_hyphen_split_subwords(token: Token, doc: Doc, spell: SymSpell):\n",
    "    def _back_to_old_split(corrected_word: str, first_part: str, second_part: str):\n",
    "        # Få tilbake delingen av et ord slik den sto i teksten, f. eks. \"jordbruket\" -> [\"jordbru-\", \"ket\"]\n",
    "        # jordbri-set -> jordbru-ket\n",
    "        if first_part in corrected_word:\n",
    "            split_point = len(first_part)\n",
    "        elif second_part in corrected_word:\n",
    "            split_point = len(corrected_word) - len(second_part)\n",
    "        else: \n",
    "            split_point = len(first_part)\n",
    "        parts = [corrected_word[:split_point] + '-', corrected_word[split_point:]]\n",
    "        return parts\n",
    "    \n",
    "    tokens_to_correct = [token.text]\n",
    "    end_index = token.i\n",
    "    \n",
    "    # Samle alle tokens som hører til uttrykket, f. eks. \"jaordbruks- organisasjoner\"\n",
    "    for tok in doc[token.i + 1:]:\n",
    "        tokens_to_correct.append(tok.text)\n",
    "        if tok.text.isalnum():\n",
    "            end_index = tok.i # Vi vil beholde indeksen som markerer slutten av uttrykket\n",
    "            break\n",
    "    \n",
    "    first_part = tokens_to_correct[0].replace('-', '')\n",
    "    second_part = tokens_to_correct[-1]\n",
    "    full_word = first_part + second_part\n",
    "    \n",
    "    corrections = spell.lookup(full_word, Verbosity.TOP)\n",
    "    \n",
    "    if corrections: \n",
    "        corrected_word = corrections[0].term\n",
    "        \n",
    "        if not corrected_word == full_word:\n",
    "            # Vi deler ordet tilbake omtrent der det var delt, for å beholde mest mulig av strukturen\n",
    "            final_parts = _back_to_old_split(corrected_word, first_part, second_part)\n",
    "            \n",
    "            # Bytt ut de opprinnelige delene med de korrigerte delene\n",
    "            tokens_to_correct[0] = final_parts[0]\n",
    "            tokens_to_correct[-1] = final_parts[1]\n",
    "\n",
    "    return tokens_to_correct, end_index\n",
    "            "
   ]
  },
  {
   "cell_type": "code",
   "execution_count": 1891,
   "metadata": {
    "tags": []
   },
   "outputs": [],
   "source": [
    "def post_ocr_correction(text: str, nlp: Language, spell: SymSpell) -> str: \n",
    "    \n",
    "    # Tokeniser teksten med noen unntak for ord med tegnsetting inni, som \"forpli:telser\"\n",
    "    for word in text.split():\n",
    "        if word[-1] not in '!?,:–.-()' and not word.isalpha():\n",
    "            nlp.tokenizer.add_special_case(word, [{ORTH: word}])\n",
    "    doc = nlp.make_doc(text)\n",
    "    \n",
    "    corrected_text = ''\n",
    "    \n",
    "    i = 0\n",
    "    \n",
    "    # Går gjennom tokens fra teksten med stavekontrollen og korrigerer\n",
    "    while i < len(doc):\n",
    "        \n",
    "        token = doc[i]\n",
    "        i += 1\n",
    "        \n",
    "        # Hvis token er whitespace, legg den til i korrigert versjon og gå videre\n",
    "        if token.text.isspace():\n",
    "            corrected_text += token.text_with_ws\n",
    "            continue\n",
    "        \n",
    "        # For enkelhetens skyld prøver vi ikke å korrigere tegnsetting eller tall\n",
    "        if token.is_punct or token.is_digit or any(char.isdigit() for char in token.text):\n",
    "            corrected_text += token.text_with_ws\n",
    "            continue\n",
    "            \n",
    "        # § blir ofte lest inn som $\n",
    "        if token.text == '$':\n",
    "            corrected_text += '§' + token.whitespace_\n",
    "            continue\n",
    "        \n",
    "        # Spacys tokenizer får ikke alltid delt opp all tegnsetting, så vi sjekker om noe har blitt igjen\n",
    "        if token.text[-1] in '.,!?':\n",
    "            word_to_look_up = token.text[:-1]\n",
    "        else: \n",
    "            word_to_look_up = token.text\n",
    "            \n",
    "        # Vi må spesialhåndtere ord som deles med bindestrek ved linjeskift\n",
    "        if token.text[-1] in '-–': \n",
    "            corrected_tokens, end_index = correct_hyphen_split_subwords(token, doc, spell)\n",
    "            \n",
    "            # Vi legger til alle delene av ordet/uttrykket vi har korrigert, med mellomrom på slutten om nødvendig\n",
    "            for t in corrected_tokens:\n",
    "                if t == corrected_tokens[-1]:\n",
    "                    corrected_text += t + doc[end_index].whitespace_\n",
    "                else:\n",
    "                    corrected_text += t\n",
    "            \n",
    "            # Vi hopper til det neste ordet etter slutten av uttrykket vi nettopp håndterte\n",
    "            i = end_index + 1\n",
    "            continue\n",
    "            \n",
    "        corrections = spell.lookup(word_to_look_up, Verbosity.TOP)\n",
    "        \n",
    "        # For enkelhetens skyld velger vi det første og beste alternativet fra stavekontrollen\n",
    "        if corrections:\n",
    "            correction = corrections[0].term\n",
    "            \n",
    "            if token.whitespace_: # Hvis det opprinnelige ordet hadde mellomrom etter seg, legg til whitespace\n",
    "                corrected_word = correction + token.whitespace_ \n",
    "            else:\n",
    "                corrected_word = correction\n",
    "                \n",
    "            corrected_text += corrected_word\n",
    "        else:       \n",
    "            corrected_text += token.text_with_ws \n",
    "        \n",
    "    return corrected_text"
   ]
  },
  {
   "cell_type": "code",
   "execution_count": 1850,
   "metadata": {},
   "outputs": [],
   "source": [
    "# Laster spacy-modell og stavekontroll\n",
    "nlp = spacy.load('nb_core_news_lg')\n",
    "spell = load_spell_checker(max_edit_distance=2)"
   ]
  },
  {
   "cell_type": "code",
   "execution_count": 1975,
   "metadata": {},
   "outputs": [],
   "source": [
    "corrected_ocr_result = post_ocr_correction(ocr_result, nlp, spell)"
   ]
  },
  {
   "cell_type": "code",
   "execution_count": 1976,
   "metadata": {},
   "outputs": [
    {
     "name": "stdout",
     "output_type": "stream",
     "text": [
      ", ;\n",
      "te i 3\n",
      "nabostats territorium, slik at åt internasjonale organ\n",
      "ved lov gis myndighet endog innen det norske rikes grenser.\n",
      "Jeg antar at man ved tolkinger av Grl.?s § I ikke\n",
      "kommer utenom en viss inflytelse av de tradisjonelle folke-\n",
      "rettslige suverenitstsforestillinger og de historisk-\n",
      "tradisjonelle inndelinger av statenes innbyrdes forhold å\n",
      "statsrettslige og folkerettsligeforbindelser alt etter\n",
      "hvilket formelt gyldighetsgrunnlag da har. Det er nemlig\n",
      "åpenbart at grunnloven må forutsette en vidtgående adgang\n",
      "for Norge til å påta sag folkerettslige forpliktelsar som\n",
      "nødvendigvis må begrense landets handlefrihet. Og rår det\n",
      "gjelder forpliktelser og forbindelser som tradisjonelt har\n",
      "vært ansett som folkerettslige ( og følgelig forbilde -\n",
      "begrepsmessig - suveranitetsbavarende i folkerettslig\n",
      "forstand) er dt naturlig å anta at grunnloven tillater\n",
      "större innskrenkkingøtr handlefriheten enr når det gjelder\n",
      "forpliktelser og rorbinsiese, tradisjonelt har vært\n",
      "Adra sender\n",
      "reknet for å værs EN tet.\n",
      "Disse tradisjonelle sonderinger er imidlertid som nevnt\n",
      "uklare of usikre i sin anvendelse og svarer ikke alltid\n",
      "til reelle forskjeller med omsyn til forpliktelsene innhold,\n",
      "faøskgate)\n",
      "se nærmere Ross lic. S 41-57 og 5. 125 -143. De bör derfor\n",
      "ikke alene legges til grunn for noen absolutt og ubetinget\n",
      "forskjell å bedømmelsen når det gjelder forholdet til\n",
      "Grl.?s § 1.. Det i siste instans av Trends ånder derne\n",
      "bedømmelse må være hvilken grad av reell frihet og virke-\n",
      "lig sjølstende rettsoppfatningen til enhver tid krever\n",
      "i forhold til statens fellesskap i verdenssamfunnet. en\n",
      "absolutte suverenitet eller sjølstende) er jo ike mulig under\n",
      "noe folkerettslig regime. Grl,?s § 1 må vel 1 förste rekke\n",
      "\n",
      "nabostats territorium, slik at det internasjonale organ\n",
      "ved lov gis myndighet endog innen det norske rikes grenser.\n",
      "\n",
      "Jeg antar at man ved tolkinger av Grl.'s § 1 ikke\n",
      "kommer utenom en viss inflytelse av de tradisjonelle folke-\n",
      "rettslige suverenitetsforestillinger og de historisk-\n",
      "tradisjonelle inndelinger av statenes innbyrdes forhold i\n",
      "statsrettslige og folkerettsligeforbindelser alt etter\n",
      "hvilket formelt gyldighetsgrunnlag de har. Det er nemlig\n",
      "åpenbart at grunnloven må forutsette en vidtgående adgang\n",
      "for Norge til å påta seg folkerettslige forpliktelser som\n",
      "nödvendigvis må begrense landets handlefrihet. Og når det\n",
      "gjelder forpliktelser og forbindelser som tradisjonelt har\n",
      "vært ansett som folkerettslige ( og fölgelig formelt -\n",
      "begrepsmessig - suverenitetsbevarende i folkerettslig\n",
      "forstand) er det naturlig å anta at grunnloven tillater\n",
      "större innskrenkning av handlefrihetan enn når det gjelder\n",
      "forpliktelser og forbindelser som tradisjonelt har vært\n",
      "r1eknet for å være av statsrettslig art.\n",
      "\n",
      "Disse tradisjonelle sondringer er imidlertid som nevnt\n",
      "uklare or usikre i sin anvendelse og svarer ik e alltid\n",
      "til reelle forskjeller med omsyn til forpliktelsenes innhold,\n",
      "se nørmere Ross l.c. 5. 41-57 og s. 125 -143. De bör derfor\n",
      "ikke alene legges til grunn for noen absolutt og ubetinget\n",
      "forskjell i bedömmelsen når det gjelder forholdet til\n",
      "Grl.'s § 1.. Det i siste instans avgjörends under denne\n",
      "bedömmelse må være hvilken grad av reell frihet og virke-\n",
      "lig sjölstende rettsoppfatningen til enhver tid krever\n",
      "i forhold til statenes fellesskap i verdenssamfunnet. Den\n",
      "absolutte suverenitet (eller sjölstende) er jo ikke mulig unde\n",
      "noe folkerettslig regime. Grl.'s § 1 må vel i förste rekke\n",
      "\n"
     ]
    }
   ],
   "source": [
    "print(corrected_ocr_result)\n",
    "print(fasit)"
   ]
  },
  {
   "cell_type": "code",
   "execution_count": 1977,
   "metadata": {},
   "outputs": [
    {
     "name": "stdout",
     "output_type": "stream",
     "text": [
      "character error rate: 6.605399195864446\n",
      "word error rate: 21.839080459770116\n"
     ]
    }
   ],
   "source": [
    "print(f'character error rate: {cer(fasit, corrected_ocr_result)}\\nword error rate: {wer(fasit, corrected_ocr_result)}')"
   ]
  },
  {
   "cell_type": "markdown",
   "metadata": {},
   "source": [
    "Vi ser at stavekontrollen i postprosesseringen gir oss en marginalt bedre CER og en bedre WER."
   ]
  },
  {
   "cell_type": "markdown",
   "metadata": {},
   "source": [
    "## Del 2\n",
    "Filen 127588_urnids.txt er en liste over urnid-er, eller pekere til bildefiler. Disse kan brukes opp mot API-et til Digitalarkivet for å hente ut bilder med funksjonen `download_urnid_from_da`, som du har fått i starten. Funksjonen tar inn en urnid og returnerer banen som bildet er lastet ned til."
   ]
  },
  {
   "cell_type": "code",
   "execution_count": 1099,
   "metadata": {},
   "outputs": [],
   "source": [
    "urnids = open('./127588_urnids.txt').read().split('\\n')"
   ]
  },
  {
   "cell_type": "code",
   "execution_count": null,
   "metadata": {},
   "outputs": [],
   "source": [
    "for urnid in urnids:\n",
    "    download_path_for_image = download_urnid_from_da(urnid, './images', auth_token)\n",
    "    print(download_path_for_image)"
   ]
  },
  {
   "cell_type": "markdown",
   "metadata": {},
   "source": [
    "Bruk denne listen sammen med `download_urnid_from_da`, som du fikk, og `ocr_file`, som du har definert, til å lage et korpus over alle dokumentene i denne kilden. Kjør noe NLP på dette som du mener kan være interessant."
   ]
  },
  {
   "cell_type": "markdown",
   "metadata": {
    "tags": []
   },
   "source": [
    "### Det grunnleggende først: et korpus som linker bilder med tilhørende (OCR-leste) tekster"
   ]
  },
  {
   "cell_type": "code",
   "execution_count": 1892,
   "metadata": {},
   "outputs": [],
   "source": [
    "import tqdm"
   ]
  },
  {
   "cell_type": "code",
   "execution_count": 1893,
   "metadata": {},
   "outputs": [
    {
     "name": "stderr",
     "output_type": "stream",
     "text": [
      "100%|█████████████████████████████████████████| 756/756 [35:07<00:00,  2.79s/it]\n"
     ]
    }
   ],
   "source": [
    "# NB! Denne tar lang tid å kjøre!\n",
    "img_dir = './images'\n",
    "corpus_dir = './av_doc_corpus'\n",
    "\n",
    "for urnid in tqdm.tqdm(urnids): \n",
    "    img_path = os.path.join(img_dir, f'{urnid}.jpg')\n",
    "    \n",
    "    ocr_text = ocr_file(img_path)\n",
    "    corrected_ocr_text = post_ocr_correction(ocr_text, nlp, spell)\n",
    "    \n",
    "    data = {\n",
    "        'urnid': urnid, \n",
    "        'img_path': img_path, \n",
    "        'raw_ocr_text': ocr_text,\n",
    "        'corrected_ocr_text': corrected_ocr_text\n",
    "    }\n",
    "    \n",
    "    save_path = os.path.join(corpus_dir, f'{urnid}.json')\n",
    "    \n",
    "    with open(save_path, 'w', encoding='utf-8') as outfile:\n",
    "        json.dump(data, outfile, indent=4)"
   ]
  },
  {
   "cell_type": "markdown",
   "metadata": {
    "tags": []
   },
   "source": [
    "### Deretter: Litt NLP som kan være nyttig/spennende\n",
    "Selv om noe av teksten vi har fått ut fortsatt er litt rotete, hadde det vært spennende å se hva vi kan gjøre med den. Det første som falt meg inn var å hente ut viktige innholdsord/nøkkelord fra tekstene, som for eksempel kan brukes når man skal søke opp dokumentene. La oss se hva vi finner: "
   ]
  },
  {
   "cell_type": "code",
   "execution_count": 1894,
   "metadata": {},
   "outputs": [],
   "source": [
    "# Vi holder styr på hele korpuset i en dictionary sånn at vi kan lage en versjon av korpuset \n",
    "# til slutt som inneholder alt vi har funnet.\n",
    "full_corpus = {}"
   ]
  },
  {
   "cell_type": "markdown",
   "metadata": {
    "tags": []
   },
   "source": [
    "#### Innholdsord"
   ]
  },
  {
   "cell_type": "code",
   "execution_count": 1895,
   "metadata": {},
   "outputs": [],
   "source": [
    "# Når vi henter ut tokens/innholdsord vil vi forsikre oss om at vi bare bruker ord som faktisk finnes, siden\n",
    "# tekstene våre er litt rotete.\n",
    "valid_words = {}\n",
    "with open('./dictionaries/nb/nasjonalbib_frekvenser_minfreq3_alnum.txt', 'r') as infile:\n",
    "    for line in infile:\n",
    "        word, freq = line.split()\n",
    "        if int(freq) > 50:\n",
    "            valid_words[word] = int(freq)"
   ]
  },
  {
   "cell_type": "code",
   "execution_count": 1896,
   "metadata": {},
   "outputs": [
    {
     "name": "stdout",
     "output_type": "stream",
     "text": [
      "db60044923000001\n",
      "[('riksarkivet', 12), ('arkiv', 18), ('justisdepartementet', 22), ('lovavdelingen', 26), ('serie', 32), ('emne', 42), ('statsrett', 47), ('forvaltningsrett', 49), ('innhold', 55), ('grunnloven', 61), ('tappe', 66), ('forståelse', 78), ('mappe', 83)]\n",
      "['arkiv', 'emne', 'forståelse', 'forvaltningsrett', 'grunnloven', 'innhold', 'justisdepartementet', 'lovavdelingen', 'mappe', 'riksarkivet', 'serie', 'statsrett', 'tappe']\n",
      "db60044923000002\n",
      "[]\n",
      "[]\n",
      "db60044923000003\n",
      "[('forbindelse', 8), ('bestemmelse', 10), ('utkast', 12), ('avtale', 17), ('bestemmelse', 19), ('henhold', 24), ('vedtak', 31), ('stortinget', 33), ('pristilskudd', 39), ('stortinget', 49), ('nødvendig', 56), ('bevilgning', 57), ('paragraf', 61), ('uttrykkelig', 65), ('bestemmelse', 69), ('avtale', 71), ('hjemmel', 82), ('gyldig', 89), ('forskrift', 90), ('oppmerksomhet', 96), ('adgang', 103), ('opptatt', 107), ('forhandling', 108), ('endring', 110), ('løpende', 114), ('avtale', 115), ('omstendighet', 119), ('avtale', 123), ('grunnlag', 125), ('krav', 127), ('forhandling', 130), ('mangel', 134), ('bestemmelse', 137), ('avtale', 139), ('vesentlig', 145), ('endring', 146), ('pris', 148), ('jordbruk', 150), ('driftsmiddel', 154), ('ning', 160), ('nærmere', 162), ('reglar', 163), ('endring', 166), ('skål', 167), ('vesentlig', 171), ('utslag', 174), ('størrelse', 175), ('beregning', 177), ('måte', 178), ('justeringsforhandlingene', 191), ('øvrig', 194), ('regel', 197), ('ordinær', 202), ('forhandling', 203), ('vilkår', 214), ('krav', 216), ('opptagelse', 218), ('forhandling', 220), ('endring', 223), ('løpende', 226), ('avtale', 227), ('stede', 230), ('part', 232), ('enighet', 236), ('myndighet', 240), ('endring', 246), ('løpende', 249), ('avtale', 250), ('grunn', 255), ('forhold', 260), ('byråsjef', 266), ('oppfatning', 274), ('riktig', 276), ('sikkerhetsventil', 281), ('betenkelighet', 283), ('prisavtale', 287), ('tidsrom', 291), ('adgang', 298), ('part', 302), ('enig', 304), ('liten', 307), ('fremtredende', 308), ('brev', 314), ('juli', 317), ('avsnitt', 320)]\n",
      "['adgang', 'avsnitt', 'avtale', 'beregning', 'bestemmelse', 'betenkelighet', 'bevilgning', 'brev', 'byråsjef', 'driftsmiddel', 'endring', 'enig', 'enighet', 'forbindelse', 'forhandling', 'forhold', 'forskrift', 'fremtredende', 'grunn', 'grunnlag', 'gyldig', 'henhold', 'hjemmel', 'jordbruk', 'juli', 'justeringsforhandlingene', 'krav', 'liten', 'løpende', 'mangel', 'myndighet', 'måte', 'ning', 'nærmere', 'nødvendig', 'omstendighet', 'oppfatning', 'oppmerksomhet', 'opptagelse', 'opptatt', 'ordinær', 'paragraf', 'part', 'pris', 'prisavtale', 'pristilskudd', 'regel', 'reglar', 'riktig', 'sikkerhetsventil', 'skål', 'stede', 'stortinget', 'størrelse', 'tidsrom', 'utkast', 'utslag', 'uttrykkelig', 'vedtak', 'vesentlig', 'vilkår', 'øvrig']\n"
     ]
    }
   ],
   "source": [
    "# Mønster for å oppdage bindestrek + linjeskift\n",
    "re_pattern = re.compile(r'-\\s+')\n",
    "\n",
    "for i, urnid in enumerate(urnids): \n",
    "    filepath = os.path.join(corpus_dir, f'{urnid}.json')\n",
    "    \n",
    "    with open(filepath, 'r', encoding='utf-8') as infile: \n",
    "        data = json.load(infile) \n",
    "        \n",
    "    corrected_ocr_text = data['corrected_ocr_text']\n",
    "    \n",
    "    # En liten vask av ord som deles med bindestrek + linjeskift\n",
    "    cleaned_text = re.sub(re_pattern, '', corrected_ocr_text)\n",
    "    \n",
    "    # Vi lar spacy analysere teksten\n",
    "    doc = nlp(cleaned_text)\n",
    "    \n",
    "    content_words = [(token.lemma_.lower(), token.i) for token in doc \n",
    "                     if token.pos_ in ['PROPN', 'ADJ', 'NOUN'] \n",
    "                     and token.lemma_.lower() in valid_words \n",
    "                     and len(token.lemma_) > 3 \n",
    "                     and token.text.isalpha()]\n",
    "    \n",
    "    unique_content_words = np.unique([tup[0] for tup in content_words]).tolist()\n",
    "    \n",
    "    # Vi printer de første resultatene for å inspisere\n",
    "    if i < 3:\n",
    "        print(urnid)\n",
    "        print(content_words)\n",
    "        print(unique_content_words)\n",
    "        \n",
    "    # Vi tar med oss tokeniserte versjoner av teksten til senere bruk\n",
    "    tokens = [token.text for token in doc]\n",
    "    lemmatized_tokens = [token.lemma_ for token in doc]\n",
    "    \n",
    "    data['cleaned_text'] = cleaned_text\n",
    "    data['tokens'] = tokens\n",
    "    data['lemmatized_tokens'] = lemmatized_tokens\n",
    "    data['content_words'] = content_words\n",
    "    data['unique_content_words'] = unique_content_words\n",
    "    full_corpus[urnid] = data\n",
    "    "
   ]
  },
  {
   "cell_type": "markdown",
   "metadata": {},
   "source": [
    "Vi har fått opp noen innholdsord her, men vi kan ha lyst til å trekke ut fraser også. La oss se på noen enkle fraser med spacys matcher-funksjon: "
   ]
  },
  {
   "cell_type": "code",
   "execution_count": 1897,
   "metadata": {},
   "outputs": [],
   "source": [
    "from spacy.matcher import Matcher\n",
    "\n",
    "# Vi lager noen enkle mønstre som kan plukke opp veldig enkle nomenfraser\n",
    "adj_noun_pattern = [{\"POS\": \"ADJ\"}, {\"POS\": \"NOUN\"}]\n",
    "noun_noun_pattern = [{\"POS\": \"NOUN\"}, {\"POS\": \"NOUN\"}]\n",
    "\n",
    "matcher = Matcher(nlp.vocab)\n",
    "matcher.add('Adj_noun', [adj_noun_pattern])\n",
    "matcher.add('Noun_noun', [noun_noun_pattern])"
   ]
  },
  {
   "cell_type": "code",
   "execution_count": 1898,
   "metadata": {},
   "outputs": [
    {
     "name": "stdout",
     "output_type": "stream",
     "text": [
      "db60044923000001\n",
      "6 8 fu jr\n",
      "db60044923000002\n",
      "db60044923000003\n",
      "7 9 derne forbindelse\n",
      "12 14 utkastets §\n",
      "39 41 pristilskudd sor\n",
      "56 58 nødvendige bevilgninger\n",
      "89 91 gyldig forskrift\n",
      "95 97 videre oppmerksomheten\n",
      "107 109 opptatt forhandlinger\n",
      "114 116 løpende avtale\n",
      "129 131 rye forhandlinger\n",
      "145 147 vesentlige endringer\n",
      "158 160 ferdbrukete 1eni\n",
      "159 161 1eni ninger\n",
      "162 164 Nærmere reglar\n",
      "166 168 endringer skål\n",
      "174 176 utslagene størrelse\n",
      "177 179 beregning måten\n",
      "202 204 ordinære forhandlinger\n",
      "226 228 løpende avtale\n",
      "249 251 løpende avtale\n",
      "259 261 endrete forhold\n",
      "290 292 lengere tidsrom\n",
      "316 318 12. juli\n",
      "319 321 förste avsnitt\n",
      "320 322 avsnitt 1.f\n"
     ]
    }
   ],
   "source": [
    "for i, urnid in enumerate(urnids): \n",
    "    \n",
    "    data = full_corpus[urnid]\n",
    "    text = data['cleaned_text']\n",
    "    \n",
    "    # Vi lar spacy analysere teksten\n",
    "    doc = nlp(text)\n",
    "    \n",
    "    noun_phrases = matcher(doc)\n",
    "    \n",
    "    phrases = []\n",
    "    # Vi printer bare de første resultatene for å inspisere\n",
    "    if i < 3:\n",
    "        print(urnid)\n",
    "        for match_id, start, end in noun_phrases:\n",
    "            span = doc[start:end]  # The matched span\n",
    "            print(start, end, span.text)\n",
    "    else:\n",
    "        break\n"
   ]
  },
  {
   "cell_type": "markdown",
   "metadata": {},
   "source": [
    "#### Named Entity Recognition (NER)\n",
    "En annen, litt spissere måte å finne nøkkelord/viktige fraser kan være NER. Her får vi ikke bare ut fraser/navn/ord som er viktige, men vi får også en antatt kategori for hver frase vi henter ut. "
   ]
  },
  {
   "cell_type": "code",
   "execution_count": 1902,
   "metadata": {},
   "outputs": [
    {
     "data": {
      "text/html": [
       "<span class=\"tex2jax_ignore\"><div class=\"entities\" style=\"line-height: 2.5; direction: ltr\">4. å</br></br>Jeg vise: i derne forbindelse til bestemmelsen i utkastets § 12 om at avtaler og bestemmelser som blir truffet i henhold til den, står tilbake for vedtak fra \n",
       "<mark class=\"entity\" style=\"background: #7aecec; padding: 0.45em 0.6em; margin: 0 0.25em; line-height: 1; border-radius: 0.35em;\">\n",
       "    Stortinget\n",
       "    <span style=\"font-size: 0.8em; font-weight: bold; line-height: 1; border-radius: 0.35em; vertical-align: middle; margin-left: 0.5rem\">ORG</span>\n",
       "</mark>\n",
       ", således at også de pristilskudd sor: måtte bli vedtatt,</br>forutsetter at \n",
       "<mark class=\"entity\" style=\"background: #7aecec; padding: 0.45em 0.6em; margin: 0 0.25em; line-height: 1; border-radius: 0.35em;\">\n",
       "    Stortinget\n",
       "    <span style=\"font-size: 0.8em; font-weight: bold; line-height: 1; border-radius: 0.35em; vertical-align: middle; margin-left: 0.5rem\">ORG</span>\n",
       "</mark>\n",
       " går med på å yte de nødvendige bevilgninger. I sanme paragraf fastsettes det også uttrykkelig</br>at ingen bestemmelser i avtalen forutsetter at statsmyndighetene skal ta rådgjerder som de ikke har hjemmel til i lov</br>eller annen gyldig forskrift.</br></br>Jeg henleder videre oppmerksomheten på § 9 som åpner</br>adgang til å kreve opptatt forhandlinger om endringer i en</br>løpende avtale når det inntrer omstendigheter som atter</br>avtalen gir grunnlag for krav om rye forhandlinger eller</br>å mangel av slik bestemmelse i avtaler når det er innpakka trådt vesentlige endringer i prisene på jordbrukets</br>salgsvarer eller driftsmidler og eller i ferdbrukete 1eni ninger. Nærmere reglar for hvilke endringer skål regnes for</br>vesentlige øg for utslagene størrelse og beregning måten skal</br>fastsettes ved prisforhandlingene. Det bestemmes videre at om</br>\n",
       "<mark class=\"entity\" style=\"background: #7aecec; padding: 0.45em 0.6em; margin: 0 0.25em; line-height: 1; border-radius: 0.35em;\">\n",
       "    Justeringsforhandlingene\n",
       "    <span style=\"font-size: 0.8em; font-weight: bold; line-height: 1; border-radius: 0.35em; vertical-align: middle; margin-left: 0.5rem\">ORG</span>\n",
       "</mark>\n",
       " gjelder for øvrig de samme regler</br>som for de ordinære forhandlinger. Jeg mkå: forstår dette</br>slik at om vilkårene for krav om opptagelse av forhandlinger om</br>endringer i en løpende avtale er til stede og partene ikke kommer til enighet, står det myndighetene fritt å foreta de</br>endringer i der løpende avtale som finnes nedverdige på grunn av</br>de endrete forhold. Jeg har konferert med byråsjef \n",
       "<mark class=\"entity\" style=\"background: #ddd; padding: 0.45em 0.6em; margin: 0 0.25em; line-height: 1; border-radius: 0.35em;\">\n",
       "    Lothe\n",
       "    <span style=\"font-size: 0.8em; font-weight: bold; line-height: 1; border-radius: 0.35em; vertical-align: middle; margin-left: 0.5rem\">PER</span>\n",
       "</mark>\n",
       " som</br>bekrefte: at denne oppfatning var riktig.</br></br>Med denne sikkerhetsventil skulle betenkelighetene ved en</br>prisavtale for et lengere tidsrom som det etter § 1 er adgang</br>til dersom partene er enige) være mindre fremtredende, jfr.</br>\n",
       "<mark class=\"entity\" style=\"background: #ddd; padding: 0.45em 0.6em; margin: 0 0.25em; line-height: 1; border-radius: 0.35em;\">\n",
       "    Justisdept\n",
       "    <span style=\"font-size: 0.8em; font-weight: bold; line-height: 1; border-radius: 0.35em; vertical-align: middle; margin-left: 0.5rem\">PER</span>\n",
       "</mark>\n",
       " brev av 12. juli 1949 förste avsnitt 1.f.</br></div></span>"
      ],
      "text/plain": [
       "<IPython.core.display.HTML object>"
      ]
     },
     "metadata": {},
     "output_type": "display_data"
    }
   ],
   "source": [
    "from spacy import displacy \n",
    "\n",
    "for i, urnid in enumerate(urnids):\n",
    "    text = full_corpus[urnid]['cleaned_text']\n",
    "\n",
    "    doc = nlp(text) \n",
    "    \n",
    "    entities = []\n",
    "    \n",
    "    # Printer en for å inspisere\n",
    "    if i == 2: \n",
    "        displacy.render(doc, style='ent', jupyter=True)\n",
    "    \n",
    "    for ent in doc.ents:\n",
    "        \n",
    "        entity_info = {\n",
    "            'name': ent.text,\n",
    "            'start': ent.start, \n",
    "            'end': ent.end,\n",
    "            'ent_type': ent.label_\n",
    "        }\n",
    "        \n",
    "        entities.append(entity_info)\n",
    "    \n",
    "    full_corpus[urnid]['cleaned_text_entities'] = entities"
   ]
  },
  {
   "cell_type": "markdown",
   "metadata": {},
   "source": [
    "#### LDA\n",
    "Vi har trukket ut både innholdsord og noen enkle fraser, men alene er de litt intetsigende. La oss se om vi kan trekke ut noen temaer (topics) fra tekstene. Her bruker jeg LDA for å se om vi får ut noen interessante temaord. "
   ]
  },
  {
   "cell_type": "code",
   "execution_count": 1903,
   "metadata": {},
   "outputs": [],
   "source": [
    "from pprint import pprint\n",
    "from gensim.models import LdaModel, TfidfModel\n",
    "import gensim.corpora as corpora\n",
    "from stop_words import get_stop_words\n",
    "nor_stopwords = get_stop_words('norwegian')"
   ]
  },
  {
   "cell_type": "code",
   "execution_count": 1904,
   "metadata": {},
   "outputs": [],
   "source": [
    "def preprocess_tokens(raw_tokens: list[str], stopwords: list[str]):\n",
    "    final_tokens = []\n",
    "    # Vi bruker bare tokens som er alfabetiske (ingen tall/andre tegn) og som ikke er veldig korte,\n",
    "    # da de korte ordene ofte er ikke-ord eller stoppord. \n",
    "    for token in raw_tokens: \n",
    "        if token not in stopwords:\n",
    "            final_tokens.append(token.lower()) \n",
    "    return final_tokens"
   ]
  },
  {
   "cell_type": "code",
   "execution_count": 1905,
   "metadata": {},
   "outputs": [
    {
     "name": "stdout",
     "output_type": "stream",
     "text": [
      "['riksarkivet', 'arkiv', 'justisdepartementet', 'lovavdelingen', 'serie', 'emne', 'statsrett', 'forvaltningsrett', 'innhold', 'grunnloven', 'tappe', 'forståelse', 'mappe']\n",
      "[]\n",
      "['forbindelse', 'bestemmelse', 'utkast', 'avtale', 'bestemmelse', 'henhold', 'vedtak', 'stortinget', 'pristilskudd', 'stortinget', 'nødvendig', 'bevilgning', 'paragraf', 'uttrykkelig', 'bestemmelse', 'avtale', 'hjemmel', 'gyldig', 'forskrift', 'oppmerksomhet', 'adgang', 'opptatt', 'forhandling', 'endring', 'løpende', 'avtale', 'omstendighet', 'avtale', 'grunnlag', 'krav', 'forhandling', 'mangel', 'bestemmelse', 'avtale', 'vesentlig', 'endring', 'pris', 'jordbruk', 'driftsmiddel', 'ning', 'nærmere', 'reglar', 'endring', 'skål', 'vesentlig', 'utslag', 'størrelse', 'beregning', 'måte', 'justeringsforhandlingene', 'øvrig', 'regel', 'ordinær', 'forhandling', 'vilkår', 'krav', 'opptagelse', 'forhandling', 'endring', 'løpende', 'avtale', 'stede', 'part', 'enighet', 'myndighet', 'endring', 'løpende', 'avtale', 'grunn', 'forhold', 'byråsjef', 'oppfatning', 'riktig', 'sikkerhetsventil', 'betenkelighet', 'prisavtale', 'tidsrom', 'adgang', 'part', 'enig', 'liten', 'fremtredende', 'brev', 'juli', 'avsnitt']\n"
     ]
    }
   ],
   "source": [
    "preprocessed_documents = []\n",
    "added_urnids = []\n",
    "\n",
    "for i, urnid in enumerate(urnids): \n",
    "    # Vi bruker bare innholdsord fordi det er disse som er mest relevante\n",
    "    content_words = [token_tup[0] for token_tup in full_corpus[urnid]['content_words']]\n",
    "    preprocessed_tokens = preprocess_tokens(content_words, nor_stopwords)\n",
    "    \n",
    "    # Vi printer de første for å inspisere\n",
    "    if i < 3:\n",
    "        print(preprocessed_tokens)\n",
    "        \n",
    "    # Til LDA vil vi bare ha dokumenter som har litt innhold, så vi dropper dokumenter som er veldig korte\n",
    "    if len(preprocessed_tokens) > 5:\n",
    "        preprocessed_documents.append(preprocessed_tokens)\n",
    "        added_urnids.append(urnid)"
   ]
  },
  {
   "cell_type": "code",
   "execution_count": 1906,
   "metadata": {},
   "outputs": [],
   "source": [
    "id2word = corpora.Dictionary(preprocessed_documents)"
   ]
  },
  {
   "cell_type": "code",
   "execution_count": 1907,
   "metadata": {},
   "outputs": [
    {
     "name": "stdout",
     "output_type": "stream",
     "text": [
      "687\n"
     ]
    }
   ],
   "source": [
    "corpus = [id2word.doc2bow(doc) for doc in preprocessed_documents]\n",
    "print(len(corpus))"
   ]
  },
  {
   "cell_type": "code",
   "execution_count": 1908,
   "metadata": {},
   "outputs": [],
   "source": [
    "tfidf = TfidfModel(corpus)\n",
    "corpus_tfidf = tfidf[corpus]"
   ]
  },
  {
   "cell_type": "markdown",
   "metadata": {},
   "source": [
    "Nå har vi gjort klart tekstene ved å preprossesere dem og lage BOW- og TF-IDF-representasjoner av dokumentene. Vi kan snart lage LDA-modellen. Det er ikke alltid lett å velge antall topics, så vi kjører en liten koherenstest først. "
   ]
  },
  {
   "cell_type": "code",
   "execution_count": 1909,
   "metadata": {},
   "outputs": [],
   "source": [
    "from gensim.models import CoherenceModel\n",
    "import pandas as pd\n",
    "import seaborn as sns"
   ]
  },
  {
   "cell_type": "code",
   "execution_count": 1913,
   "metadata": {},
   "outputs": [
    {
     "data": {
      "text/plain": [
       "<AxesSubplot:xlabel='Antall temaer', ylabel='Koherens-score'>"
      ]
     },
     "execution_count": 1913,
     "metadata": {},
     "output_type": "execute_result"
    },
    {
     "data": {
      "image/png": "[encoded data removed]",
      "text/plain": [
       "<Figure size 648x1080 with 1 Axes>"
      ]
     },
     "metadata": {
      "needs_background": "light"
     },
     "output_type": "display_data"
    }
   ],
   "source": [
    "num_topics = []\n",
    "coherence_score = []\n",
    "\n",
    "for i in range(1,10):\n",
    "    lda_model = LdaModel(corpus=corpus_tfidf,\n",
    "                         id2word=id2word,\n",
    "                         iterations=50,\n",
    "                         num_topics=i)\n",
    "    coherence_model_lda = CoherenceModel(model=lda_model, \n",
    "                                         texts=preprocessed_documents, \n",
    "                                         corpus=corpus_tfidf,\n",
    "                                         dictionary=id2word, \n",
    "                                         coherence='c_v')\n",
    "    coherence_lda = coherence_model_lda.get_coherence()\n",
    "    num_topics.append(i)\n",
    "    coherence_score.append(coherence_lda)\n",
    "\n",
    "# Vi lager en dataframe for å printe resultatene\n",
    "topic_coherence = pd.DataFrame({'Antall temaer':num_topics,\n",
    "                                'Koherens-score':coherence_score})\n",
    "\n",
    "# Print a line plot\n",
    "sns.lineplot(data=topic_coherence, x='Antall temaer', y='Koherens-score')"
   ]
  },
  {
   "cell_type": "markdown",
   "metadata": {},
   "source": [
    "Koherensen svinger med antall topics, men num_topics=8 gir høyest score på denne grafen. Vi prøver med num_topics=8. La oss lage modellen og se på hvilke topics vi får ut."
   ]
  },
  {
   "cell_type": "code",
   "execution_count": 1914,
   "metadata": {},
   "outputs": [
    {
     "name": "stdout",
     "output_type": "stream",
     "text": [
      "[(0,\n",
      "  '0.002*\"overskjønn\" + 0.002*\"sorenskriver\" + 0.001*\"erstatning\" + '\n",
      "  '0.001*\"ålesund\" + 0.001*\"alternativ\" + 0.001*\"stat\" + 0.001*\"eiendom\" + '\n",
      "  '0.001*\"grunn\" + 0.001*\"ekspropriasjon\" + 0.001*\"havnevesen\"'),\n",
      " (1,\n",
      "  '0.002*\"post\" + 0.001*\"jordbruk\" + 0.001*\"avtale\" + 0.001*\"embetsmann\" + '\n",
      "  '0.001*\"stat\" + 0.001*\"pris\" + 0.001*\"stilling\" + 0.001*\"land\" + '\n",
      "  '0.001*\"utvalg\" + 0.001*\"grunn\"'),\n",
      " (2,\n",
      "  '0.002*\"grunnloven\" + 0.001*\"post\" + 0.001*\"bevilgning\" + 0.001*\"erstatning\" '\n",
      "  '+ 0.001*\"stortinget\" + 0.001*\"vinmonopolet\" + 0.001*\"forslag\" + '\n",
      "  '0.001*\"norsk\" + 0.001*\"side\" + 0.001*\"stat\"'),\n",
      " (3,\n",
      "  '0.001*\"politi\" + 0.001*\"pastor\" + 0.001*\"konstitusjon\" + 0.001*\"komiteen\" + '\n",
      "  '0.001*\"pris\" + 0.001*\"forhold\" + 0.001*\"uttalelse\" + 0.001*\"virksomhet\" + '\n",
      "  '0.001*\"utvalg\" + 0.001*\"jordbruk\"'),\n",
      " (4,\n",
      "  '0.002*\"regjering\" + 0.001*\"stat\" + 0.001*\"avtale\" + 0.001*\"stortinget\" + '\n",
      "  '0.001*\"forslag\" + 0.001*\"rett\" + 0.001*\"post\" + 0.001*\"formue\" + '\n",
      "  '0.001*\"bevilgning\" + 0.001*\"sykdom\"'),\n",
      " (5,\n",
      "  '0.002*\"jordbruk\" + 0.001*\"pris\" + 0.001*\"erstatning\" + 0.001*\"forhandling\" '\n",
      "  '+ 0.001*\"utvalg\" + 0.001*\"brev\" + 0.001*\"stat\" + 0.001*\"norsk\" + '\n",
      "  '0.001*\"forhold\" + 0.001*\"inntekt\"'),\n",
      " (6,\n",
      "  '0.001*\"pris\" + 0.001*\"jordbruk\" + 0.001*\"forhandling\" + 0.001*\"oslo\" + '\n",
      "  '0.001*\"norsk\" + 0.001*\"legasjon\" + 0.001*\"avtale\" + 0.001*\"grunn\" + '\n",
      "  '0.001*\"departement\" + 0.001*\"tilfelle\"'),\n",
      " (7,\n",
      "  '0.001*\"erstatning\" + 0.001*\"monopol\" + 0.001*\"jakt\" + 0.001*\"spørsmål\" + '\n",
      "  '0.001*\"norsk\" + 0.001*\"stat\" + 0.001*\"avtale\" + 0.001*\"jordbruk\" + '\n",
      "  '0.001*\"anlegg\" + 0.001*\"virksomhet\"')]\n"
     ]
    }
   ],
   "source": [
    "num_topics = 8\n",
    "\n",
    "lda_model = LdaModel(corpus=corpus_tfidf,\n",
    "                     id2word=id2word,\n",
    "                     num_topics=num_topics)\n",
    "pprint(lda_model.print_topics())\n",
    "doc_lda = lda_model[corpus]"
   ]
  },
  {
   "cell_type": "markdown",
   "metadata": {},
   "source": [
    "Ut ifra koherensgrafen vi så tidligere og resultatene vi ser her, er det tydelig at det er mange overlappende temaer i denne samlingen av tekster (mange av tekstene handler om de samme tingene). La oss se på noen individuelle dokumenter: "
   ]
  },
  {
   "cell_type": "code",
   "execution_count": 1915,
   "metadata": {},
   "outputs": [
    {
     "name": "stdout",
     "output_type": "stream",
     "text": [
      "bestemmelser. I det nye utkast står bare tilbake en bestem-\n",
      "melse 6€$ 11) om at den fordel som ja bruket kan skaffe seg\n",
      "gjennom: øket produksjon og rasjonalisme: ing av gårdsdriften,\n",
      "omsetningen og foredlingen ved oppsettingen av de kortsiktige\n",
      "prisavtaler så vidt mulig under hensyntagen til landets økono-\n",
      "miske mi vil komme jordbruket til gode. LDenne bestemmelse\n",
      "\n",
      "er tvetydig. Det er å foretrekke at ordene så vidt mulig\n",
      "settes etter under hensyntagen til landets økonomi.\":.\n",
      "\n",
      "Bestemmelser i det tidligere utkasts avsnitt III om til-\n",
      "tak for å regulere markedet og sikre avsetningen av jordbru-\n",
      "kets produkter er som nevnt heller ikke kommet med i det nye\n",
      "utkast.\n",
      "\n",
      "Det nye utkast fastslår at priser på jordbrukets salgs-\n",
      "varer og ariftsmifilger först skal fastsettes etter forutgående\n",
      "forhandlinger. mellom statsmyndighetens og de to jordbruks-\n",
      "organisasjoner i 1). Likeledes han forhandlinger etter § 6\n",
      "kreves opptatt com andre regulerende tiltak. Blir enighet opp-\n",
      "\n",
      "rådd, skal etter § 7 prismyndighetene fastsette sine pris-\n",
      "bestemmelser og gjennomføre sine regulerende tiltak for øvrig\n",
      "i samsvar med de retningslinjer som det måtta være inngått av-\n",
      "tale om. Blir enighet ikke oppnådd, må konsekvensen være at\n",
      "myndighetene står helt fritt ved spørsmålet om hvilke tiltak\n",
      "bör treffes.\n",
      "\n",
      "§ 1 forutsetter at da kortsiktige prisavtaler skal gjelde\n",
      "for et driftsår om gangen om ikke myndighetene og de to orga-\n",
      "nisasjoner blir enige om et arnet tidsrum. Som tidligere an-\n",
      "tatt av Lovavdelingen må det etter prisreguleringslov av\n",
      "30. juni 1947 være fullt utilstedelig at staten for et kortere\n",
      "tidsrom treffer avtale som forplikter myndighetene til å treffe\n",
      "\n",
      "i visse regulerende bestemmelser som ikke skal komme kunne endres\n",
      "i løpet av det fastsatte tidsrom.\n",
      "\n",
      "\n",
      "Score: 0.8046300411224365\t \n",
      "Tema: 0.002*\"post\" + 0.001*\"jordbruk\" + 0.001*\"avtale\" + 0.001*\"embetsmann\" + 0.001*\"stat\" + 0.001*\"pris\" + 0.001*\"stilling\" + 0.001*\"land\" + 0.001*\"utvalg\" + 0.001*\"grunn\"\n",
      "\n",
      "Score: 0.027960272505879402\t \n",
      "Tema: 0.002*\"grunnloven\" + 0.001*\"post\" + 0.001*\"bevilgning\" + 0.001*\"erstatning\" + 0.001*\"stortinget\" + 0.001*\"vinmonopolet\" + 0.001*\"forslag\" + 0.001*\"norsk\" + 0.001*\"side\" + 0.001*\"stat\"\n",
      "\n",
      "Score: 0.027908243238925934\t \n",
      "Tema: 0.002*\"jordbruk\" + 0.001*\"pris\" + 0.001*\"erstatning\" + 0.001*\"forhandling\" + 0.001*\"utvalg\" + 0.001*\"brev\" + 0.001*\"stat\" + 0.001*\"norsk\" + 0.001*\"forhold\" + 0.001*\"inntekt\"\n",
      "\n",
      "Score: 0.027904082089662552\t \n",
      "Tema: 0.001*\"politi\" + 0.001*\"pastor\" + 0.001*\"konstitusjon\" + 0.001*\"komiteen\" + 0.001*\"pris\" + 0.001*\"forhold\" + 0.001*\"uttalelse\" + 0.001*\"virksomhet\" + 0.001*\"utvalg\" + 0.001*\"jordbruk\"\n",
      "\n",
      "Score: 0.027903011068701744\t \n",
      "Tema: 0.001*\"erstatning\" + 0.001*\"monopol\" + 0.001*\"jakt\" + 0.001*\"spørsmål\" + 0.001*\"norsk\" + 0.001*\"stat\" + 0.001*\"avtale\" + 0.001*\"jordbruk\" + 0.001*\"anlegg\" + 0.001*\"virksomhet\"\n",
      "\n",
      "Score: 0.027902785688638687\t \n",
      "Tema: 0.001*\"pris\" + 0.001*\"jordbruk\" + 0.001*\"forhandling\" + 0.001*\"oslo\" + 0.001*\"norsk\" + 0.001*\"legasjon\" + 0.001*\"avtale\" + 0.001*\"grunn\" + 0.001*\"departement\" + 0.001*\"tilfelle\"\n",
      "\n",
      "Score: 0.02790146879851818\t \n",
      "Tema: 0.002*\"regjering\" + 0.001*\"stat\" + 0.001*\"avtale\" + 0.001*\"stortinget\" + 0.001*\"forslag\" + 0.001*\"rett\" + 0.001*\"post\" + 0.001*\"formue\" + 0.001*\"bevilgning\" + 0.001*\"sykdom\"\n",
      "\n",
      "Score: 0.027890028432011604\t \n",
      "Tema: 0.002*\"overskjønn\" + 0.002*\"sorenskriver\" + 0.001*\"erstatning\" + 0.001*\"ålesund\" + 0.001*\"alternativ\" + 0.001*\"stat\" + 0.001*\"eiendom\" + 0.001*\"grunn\" + 0.001*\"ekspropriasjon\" + 0.001*\"havnevesen\"\n",
      "Ap.\n",
      "Jeg viser til ved. jnr. 588/1948-E og 894/1949-E.\n",
      "Finansdept har i brev av 16. mars 1950 forelagt\n",
      "for Justisdept et nytt utkast til hovedavtale (lang-\n",
      "siktig prisavtale) for jordbruksnæringen. Forslaget er\n",
      "anbefalt av Statens forhandlingsutvalg og av Jordbrukets\n",
      "forhandlingsutvalg.\n",
      "Saken ble först behandlet av Adm. avdeling som å brev\n",
      "av 28. mars 1950 uttalte at forslaget til langsiktig pris-\n",
      "avtale for jordbruket ikke antas å berre Justisdeøtats\n",
      "saksområde. Etter underhåndshenvendelse fra Finansdept\n",
      "er saken nå overført til Lovavdelingen hvis uttalelse ønskes.\n",
      "Forslaget avviker sterkt fra det tidligere forslag\n",
      "(\"Sunnanåkomit&ens\" forslag), som er omhandlet i ved.\n",
      "inn. 894/1949-E. Således er de fleste av bestemmelsene i\n",
      "avsnitt II samt. bestemmelsene i avsnitt ITI i det tidligere\n",
      "utkast sløyfet. dette, fastslo i avsnitt II visse alminnelige\n",
      "prinsipper for fastsettelsen av jordbrukets irntektsprivå ar\n",
      "som tok sikte på å sikre bøndene mot en økonomisk utvikling\n",
      "som ville være til skade for dem. Utkastet inneholdt bla\n",
      "bestemmelser om at jordbrukets løsninger og lønnsevne og\n",
      "lønninger i andre yrker åkke måtte forverres, at enhver\n",
      "k økning i produksjonskostnadene, eventuelt ved reduksjon eller\n",
      "omlegning av prissubsidiene skulle kompenseres ved tilsvarende\n",
      "inntektsøkning, og at fordeler som fölge av øket produksjon\n",
      "eller rasjonalisering i alminnelighet skulle tilfalle jord-\n",
      "bruket. Slike bestemmelser ville i stor utstrekning före\n",
      "til automatisk regulering av jordbruksprisene når de avgjören-\n",
      "de økonomiske faktorer endret seg. fv grunner som det nærmere\n",
      "er redegjort for i ved. PLM fra Statens forhandlingsutvalg,\n",
      "har Statens forhandlere ikke surret å burde gå med på slike\n",
      "\n",
      "\n",
      "Score: 0.8838137984275818\t \n",
      "Tema: 0.001*\"erstatning\" + 0.001*\"monopol\" + 0.001*\"jakt\" + 0.001*\"spørsmål\" + 0.001*\"norsk\" + 0.001*\"stat\" + 0.001*\"avtale\" + 0.001*\"jordbruk\" + 0.001*\"anlegg\" + 0.001*\"virksomhet\"\n",
      "\n",
      "Score: 0.016609814018011093\t \n",
      "Tema: 0.001*\"politi\" + 0.001*\"pastor\" + 0.001*\"konstitusjon\" + 0.001*\"komiteen\" + 0.001*\"pris\" + 0.001*\"forhold\" + 0.001*\"uttalelse\" + 0.001*\"virksomhet\" + 0.001*\"utvalg\" + 0.001*\"jordbruk\"\n",
      "\n",
      "Score: 0.016604885458946228\t \n",
      "Tema: 0.002*\"jordbruk\" + 0.001*\"pris\" + 0.001*\"erstatning\" + 0.001*\"forhandling\" + 0.001*\"utvalg\" + 0.001*\"brev\" + 0.001*\"stat\" + 0.001*\"norsk\" + 0.001*\"forhold\" + 0.001*\"inntekt\"\n",
      "\n",
      "Score: 0.016600891947746277\t \n",
      "Tema: 0.002*\"grunnloven\" + 0.001*\"post\" + 0.001*\"bevilgning\" + 0.001*\"erstatning\" + 0.001*\"stortinget\" + 0.001*\"vinmonopolet\" + 0.001*\"forslag\" + 0.001*\"norsk\" + 0.001*\"side\" + 0.001*\"stat\"\n",
      "\n",
      "Score: 0.01659851148724556\t \n",
      "Tema: 0.001*\"pris\" + 0.001*\"jordbruk\" + 0.001*\"forhandling\" + 0.001*\"oslo\" + 0.001*\"norsk\" + 0.001*\"legasjon\" + 0.001*\"avtale\" + 0.001*\"grunn\" + 0.001*\"departement\" + 0.001*\"tilfelle\"\n",
      "\n",
      "Score: 0.01659337989985943\t \n",
      "Tema: 0.002*\"post\" + 0.001*\"jordbruk\" + 0.001*\"avtale\" + 0.001*\"embetsmann\" + 0.001*\"stat\" + 0.001*\"pris\" + 0.001*\"stilling\" + 0.001*\"land\" + 0.001*\"utvalg\" + 0.001*\"grunn\"\n",
      "\n",
      "Score: 0.01659015379846096\t \n",
      "Tema: 0.002*\"regjering\" + 0.001*\"stat\" + 0.001*\"avtale\" + 0.001*\"stortinget\" + 0.001*\"forslag\" + 0.001*\"rett\" + 0.001*\"post\" + 0.001*\"formue\" + 0.001*\"bevilgning\" + 0.001*\"sykdom\"\n",
      "\n",
      "Score: 0.01658858358860016\t \n",
      "Tema: 0.002*\"overskjønn\" + 0.002*\"sorenskriver\" + 0.001*\"erstatning\" + 0.001*\"ålesund\" + 0.001*\"alternativ\" + 0.001*\"stat\" + 0.001*\"eiendom\" + 0.001*\"grunn\" + 0.001*\"ekspropriasjon\" + 0.001*\"havnevesen\"\n"
     ]
    }
   ],
   "source": [
    "for i, urnid in enumerate(added_urnids[2:4]):\n",
    "    tfidf_doc = corpus_tfidf[i]\n",
    "    print(full_corpus[urnid]['corrected_ocr_text'])\n",
    "    for index, score in sorted(lda_model[tfidf_doc], key=lambda tup: -1*tup[1]):\n",
    "        print(\"\\nScore: {}\\t \\nTema: {}\".format(score, lda_model.print_topic(index, 10)))"
   ]
  },
  {
   "cell_type": "markdown",
   "metadata": {},
   "source": [
    "La oss nå gå gjennom hele korpuset og lagre temaord for hver tekst. "
   ]
  },
  {
   "cell_type": "code",
   "execution_count": 1916,
   "metadata": {},
   "outputs": [],
   "source": [
    "for i, urnid in enumerate(added_urnids):\n",
    "    \n",
    "    tfidf_doc = corpus_tfidf[i]\n",
    "    topic_results = lda_model.get_document_topics(tfidf_doc, minimum_probability=0.2)\n",
    "    \n",
    "    topics_detected = []\n",
    "    \n",
    "    for result in topic_results:\n",
    "       \n",
    "        topic_index = result[0]\n",
    "        topic_score = result[1]\n",
    "        \n",
    "        topic_terms = [tup[0] for tup in lda_model.show_topic(topic_index, topn=10)]\n",
    "        \n",
    "        topic_data = {\n",
    "            'index': topic_index,\n",
    "            'score': str(topic_score), # Fordi floats ikke kan serialiseres som JSON\n",
    "            'terms': topic_terms\n",
    "        }\n",
    "        \n",
    "        topics_detected.append(topic_data)\n",
    "        \n",
    "    full_corpus[urnid]['lda_topic'] = topics_detected"
   ]
  },
  {
   "cell_type": "markdown",
   "metadata": {},
   "source": [
    "Nå har vi lagt til litt ekstra data i korpuset vårt i form av nøkkelord/innholdsord og mer \"abstrakte\" emneord. La oss lagre en ny versjon av korpuset med disse tilleggsdataene!"
   ]
  },
  {
   "cell_type": "code",
   "execution_count": 1918,
   "metadata": {},
   "outputs": [],
   "source": [
    "save_dir = './av_doc_corpus_keywords'\n",
    "\n",
    "for urnid, data in full_corpus.items():\n",
    "    \n",
    "    save_path = os.path.join(save_dir, f'{urnid}.json')\n",
    "    \n",
    "    with open(save_path, 'w', encoding='utf-8') as outfile:\n",
    "        json.dump(data, outfile, indent=4)\n",
    "    "
   ]
  },
  {
   "cell_type": "code",
   "execution_count": null,
   "metadata": {},
   "outputs": [],
   "source": []
  }
 ],
 "metadata": {
  "kernelspec": {
   "display_name": "Python 3 (ipykernel)",
   "language": "python",
   "name": "python3"
  },
  "language_info": {
   "codemirror_mode": {
    "name": "ipython",
    "version": 3
   },
   "file_extension": ".py",
   "mimetype": "text/x-python",
   "name": "python",
   "nbconvert_exporter": "python",
   "pygments_lexer": "ipython3",
   "version": "3.10.4"
  }
 },
 "nbformat": 4,
 "nbformat_minor": 4
}
